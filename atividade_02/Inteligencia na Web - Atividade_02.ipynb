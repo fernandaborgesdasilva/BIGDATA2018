{
 "cells": [
  {
   "cell_type": "code",
   "execution_count": 17,
   "metadata": {
    "collapsed": true
   },
   "outputs": [],
   "source": [
    "from pyspark.sql import SparkSession\n",
    "from pyspark.sql.functions import *"
   ]
  },
  {
   "cell_type": "markdown",
   "metadata": {},
   "source": [
    "## 1 a) Criando uma base RDD"
   ]
  },
  {
   "cell_type": "code",
   "execution_count": 1,
   "metadata": {},
   "outputs": [
    {
     "name": "stdout",
     "output_type": "stream",
     "text": [
      "<class 'pyspark.rdd.RDD'>\n"
     ]
    }
   ],
   "source": [
    "ListaPalavras = ['gato', 'elefante', 'rato', 'rato', 'gato']\n",
    "palavrasRDD = sc.parallelize(ListaPalavras, 4)\n",
    "print(type(palavrasRDD))"
   ]
  },
  {
   "cell_type": "markdown",
   "metadata": {},
   "source": [
    "## 1 b) Plural"
   ]
  },
  {
   "cell_type": "code",
   "execution_count": 2,
   "metadata": {},
   "outputs": [
    {
     "name": "stdout",
     "output_type": "stream",
     "text": [
      "gatos\n"
     ]
    }
   ],
   "source": [
    "# EXERCICIO\n",
    "def Plural(palavra):\n",
    "    \"\"\"Adds an 's' to `palavra`.\n",
    "\n",
    "    Args:\n",
    "        palavra (str): A string.\n",
    "\n",
    "    Returns:\n",
    "        str: A string with 's' added to it.\n",
    "    \"\"\"\n",
    "    return palavra + \"s\"\n",
    "\n",
    "print(Plural('gato'))"
   ]
  },
  {
   "cell_type": "code",
   "execution_count": 3,
   "metadata": {},
   "outputs": [
    {
     "name": "stdout",
     "output_type": "stream",
     "text": [
      "Help on function Plural in module __main__:\n",
      "\n",
      "Plural(palavra)\n",
      "    Adds an 's' to `palavra`.\n",
      "    \n",
      "    Args:\n",
      "        palavra (str): A string.\n",
      "    \n",
      "    Returns:\n",
      "        str: A string with 's' added to it.\n",
      "\n"
     ]
    }
   ],
   "source": [
    "help(Plural)"
   ]
  },
  {
   "cell_type": "code",
   "execution_count": 4,
   "metadata": {},
   "outputs": [
    {
     "name": "stdout",
     "output_type": "stream",
     "text": [
      "OK\n"
     ]
    }
   ],
   "source": [
    "assert Plural('rato')=='ratos', 'resultado incorreto!'\n",
    "print ('OK')"
   ]
  },
  {
   "cell_type": "markdown",
   "metadata": {},
   "source": [
    "## 1 c) Aplicando a função ao RDD"
   ]
  },
  {
   "cell_type": "code",
   "execution_count": 5,
   "metadata": {},
   "outputs": [
    {
     "name": "stdout",
     "output_type": "stream",
     "text": [
      "['gatos', 'elefantes', 'ratos', 'ratos', 'gatos']\n"
     ]
    }
   ],
   "source": [
    "# EXERCICIO\n",
    "pluralRDD = palavrasRDD.map(Plural)\n",
    "print (pluralRDD.collect())"
   ]
  },
  {
   "cell_type": "code",
   "execution_count": 6,
   "metadata": {},
   "outputs": [
    {
     "name": "stdout",
     "output_type": "stream",
     "text": [
      "OK\n"
     ]
    }
   ],
   "source": [
    "assert pluralRDD.collect()==['gatos','elefantes','ratos','ratos','gatos'], 'valores incorretos!'\n",
    "print ('OK')"
   ]
  },
  {
   "cell_type": "markdown",
   "metadata": {},
   "source": [
    "## 1 d) Utilizando uma função lambda"
   ]
  },
  {
   "cell_type": "code",
   "execution_count": 7,
   "metadata": {},
   "outputs": [
    {
     "name": "stdout",
     "output_type": "stream",
     "text": [
      "['gatos', 'elefantes', 'ratos', 'ratos', 'gatos']\n"
     ]
    }
   ],
   "source": [
    "# EXERCICIO\n",
    "pluralLambdaRDD = palavrasRDD.map(lambda item: Plural(item))\n",
    "print (pluralLambdaRDD.collect())"
   ]
  },
  {
   "cell_type": "code",
   "execution_count": 8,
   "metadata": {},
   "outputs": [
    {
     "name": "stdout",
     "output_type": "stream",
     "text": [
      "OK\n"
     ]
    }
   ],
   "source": [
    "assert pluralLambdaRDD.collect()==['gatos','elefantes','ratos','ratos','gatos'], 'valores incorretos!'\n",
    "print ('OK')"
   ]
  },
  {
   "cell_type": "markdown",
   "metadata": {},
   "source": [
    "## 1 e) Tamanho de cada palavra "
   ]
  },
  {
   "cell_type": "code",
   "execution_count": 9,
   "metadata": {},
   "outputs": [
    {
     "name": "stdout",
     "output_type": "stream",
     "text": [
      "[5, 9, 5, 5, 5]\n"
     ]
    }
   ],
   "source": [
    "# EXERCICIO\n",
    "pluralTamanho = (pluralRDD.map(lambda item: len(item)).collect())\n",
    "print (pluralTamanho)"
   ]
  },
  {
   "cell_type": "code",
   "execution_count": 10,
   "metadata": {},
   "outputs": [
    {
     "name": "stdout",
     "output_type": "stream",
     "text": [
      "OK\n"
     ]
    }
   ],
   "source": [
    "assert pluralTamanho==[5,9,5,5,5], 'valores incorretos'\n",
    "print (\"OK\")"
   ]
  },
  {
   "cell_type": "markdown",
   "metadata": {},
   "source": [
    "## 1 f) RDDs de pares e tuplas "
   ]
  },
  {
   "cell_type": "code",
   "execution_count": 11,
   "metadata": {},
   "outputs": [
    {
     "name": "stdout",
     "output_type": "stream",
     "text": [
      "[('gato', 1), ('elefante', 1), ('rato', 1), ('rato', 1), ('gato', 1)]\n"
     ]
    }
   ],
   "source": [
    "# EXERCICIO\n",
    "palavraPar = palavrasRDD.map(lambda x: (x, 1))\n",
    "print (palavraPar.collect())"
   ]
  },
  {
   "cell_type": "code",
   "execution_count": 12,
   "metadata": {},
   "outputs": [
    {
     "name": "stdout",
     "output_type": "stream",
     "text": [
      "OK\n"
     ]
    }
   ],
   "source": [
    "assert palavraPar.collect() == [('gato',1),('elefante',1),('rato',1),('rato',1),('gato',1)], 'valores incorretos!'\n",
    "print (\"OK\")"
   ]
  },
  {
   "cell_type": "markdown",
   "metadata": {},
   "source": [
    "# Parte 2: Manipulando RDD de tuplas"
   ]
  },
  {
   "cell_type": "markdown",
   "metadata": {},
   "source": [
    "## 2 a) Função groupByKey()"
   ]
  },
  {
   "cell_type": "code",
   "execution_count": 13,
   "metadata": {},
   "outputs": [
    {
     "name": "stdout",
     "output_type": "stream",
     "text": [
      "elefante: [1]\n",
      "rato: [1, 1]\n",
      "gato: [1, 1]\n"
     ]
    }
   ],
   "source": [
    "# EXERCICIO\n",
    "palavrasGrupo = palavraPar.groupByKey()\n",
    "for chave, valor in palavrasGrupo.collect():\n",
    "    valores = list(valor)\n",
    "    print(f'{chave}: {valores}')"
   ]
  },
  {
   "cell_type": "code",
   "execution_count": 14,
   "metadata": {},
   "outputs": [
    {
     "name": "stdout",
     "output_type": "stream",
     "text": [
      "OK\n"
     ]
    }
   ],
   "source": [
    "assert sorted(palavrasGrupo.mapValues(lambda x: list(x)).collect()) == [('elefante', [1]), ('gato',[1, 1]), ('rato',[1, 1])], 'Valores incorretos!'\n",
    "print (\"OK\")"
   ]
  },
  {
   "cell_type": "markdown",
   "metadata": {},
   "source": [
    "## 2 b) Calculando as contagens "
   ]
  },
  {
   "cell_type": "code",
   "execution_count": 18,
   "metadata": {},
   "outputs": [
    {
     "name": "stdout",
     "output_type": "stream",
     "text": [
      "[('elefante', 1), ('rato', 2), ('gato', 2)]\n"
     ]
    }
   ],
   "source": [
    "# EXERCICIO\n",
    "contagemGroup = palavrasGrupo.map(lambda x: (x[0], sum(x[1])))\n",
    "print (contagemGroup.collect())"
   ]
  },
  {
   "cell_type": "code",
   "execution_count": 19,
   "metadata": {},
   "outputs": [
    {
     "data": {
      "text/plain": [
       "PythonRDD[9] at collect at <ipython-input-13-2b1bca76dd15>:3"
      ]
     },
     "execution_count": 19,
     "metadata": {},
     "output_type": "execute_result"
    }
   ],
   "source": [
    "palavrasGrupo"
   ]
  },
  {
   "cell_type": "code",
   "execution_count": 20,
   "metadata": {},
   "outputs": [
    {
     "name": "stdout",
     "output_type": "stream",
     "text": [
      "OK\n"
     ]
    }
   ],
   "source": [
    "assert sorted(contagemGroup.collect())==[('elefante',1), ('gato',2), ('rato',2)], 'valores incorretos!'\n",
    "print (\"OK\")"
   ]
  },
  {
   "cell_type": "markdown",
   "metadata": {},
   "source": [
    "## 2 c) reduceByKey"
   ]
  },
  {
   "cell_type": "code",
   "execution_count": 21,
   "metadata": {},
   "outputs": [
    {
     "name": "stdout",
     "output_type": "stream",
     "text": [
      "[('elefante', 1), ('rato', 2), ('gato', 2)]\n"
     ]
    }
   ],
   "source": [
    "# EXERCICIO\n",
    "contagem = palavraPar.reduceByKey(lambda x, y: x + y)\n",
    "print( contagem.collect())"
   ]
  },
  {
   "cell_type": "code",
   "execution_count": 22,
   "metadata": {},
   "outputs": [
    {
     "name": "stdout",
     "output_type": "stream",
     "text": [
      "OK\n"
     ]
    }
   ],
   "source": [
    "assert sorted(contagem.collect())==[('elefante',1), ('gato',2), ('rato',2)], 'valores incorretos!'\n",
    "print (\"OK\")"
   ]
  },
  {
   "cell_type": "markdown",
   "metadata": {},
   "source": [
    "## 2 d) Agrupando os comandos"
   ]
  },
  {
   "cell_type": "code",
   "execution_count": 23,
   "metadata": {},
   "outputs": [
    {
     "name": "stdout",
     "output_type": "stream",
     "text": [
      "[('elefante', 1), ('rato', 2), ('gato', 2)]\n"
     ]
    }
   ],
   "source": [
    "# EXERCICIO\n",
    "contagemFinal = (palavrasRDD.map(lambda x: (x, 1)).reduceByKey(lambda x, y: x + y))\n",
    "print (contagemFinal.collect())"
   ]
  },
  {
   "cell_type": "code",
   "execution_count": 24,
   "metadata": {},
   "outputs": [
    {
     "name": "stdout",
     "output_type": "stream",
     "text": [
      "OK\n"
     ]
    }
   ],
   "source": [
    "assert sorted(contagemFinal.collect())==[('elefante',1), ('gato',2), ('rato',2)], 'valores incorretos!'\n",
    "print (\"OK\")"
   ]
  },
  {
   "cell_type": "markdown",
   "metadata": {},
   "source": [
    "# Parte 3: Encontrando as palavras únicas e calculando a média de contagem"
   ]
  },
  {
   "cell_type": "markdown",
   "metadata": {},
   "source": [
    "## 3 a) Palavras Únicas"
   ]
  },
  {
   "cell_type": "code",
   "execution_count": 25,
   "metadata": {},
   "outputs": [
    {
     "data": {
      "text/plain": [
       "[('elefante', 1), ('rato', 2), ('gato', 2)]"
      ]
     },
     "execution_count": 25,
     "metadata": {},
     "output_type": "execute_result"
    }
   ],
   "source": [
    "contagemFinal.collect()"
   ]
  },
  {
   "cell_type": "code",
   "execution_count": 26,
   "metadata": {},
   "outputs": [
    {
     "data": {
      "text/plain": [
       "1"
      ]
     },
     "execution_count": 26,
     "metadata": {},
     "output_type": "execute_result"
    }
   ],
   "source": [
    "contagemFinal.filter(lambda x: x[1] == 1).count()"
   ]
  },
  {
   "cell_type": "code",
   "execution_count": 27,
   "metadata": {},
   "outputs": [
    {
     "name": "stdout",
     "output_type": "stream",
     "text": [
      "3\n"
     ]
    }
   ],
   "source": [
    "# EXERCICIO\n",
    "palavrasUnicas = contagemFinal.count()\n",
    "print (palavrasUnicas)"
   ]
  },
  {
   "cell_type": "code",
   "execution_count": 28,
   "metadata": {},
   "outputs": [
    {
     "name": "stdout",
     "output_type": "stream",
     "text": [
      "OK\n"
     ]
    }
   ],
   "source": [
    "assert palavrasUnicas==3, 'valor incorreto!'\n",
    "print (\"OK\")"
   ]
  },
  {
   "cell_type": "markdown",
   "metadata": {},
   "source": [
    "## 3 b) Calculando a Média de contagem de palavras"
   ]
  },
  {
   "cell_type": "code",
   "execution_count": 29,
   "metadata": {},
   "outputs": [
    {
     "data": {
      "text/plain": [
       "5"
      ]
     },
     "execution_count": 29,
     "metadata": {},
     "output_type": "execute_result"
    }
   ],
   "source": [
    "from operator import add\n",
    "contagemFinal.map(lambda x: x[1]).reduce(add)"
   ]
  },
  {
   "cell_type": "code",
   "execution_count": 30,
   "metadata": {},
   "outputs": [
    {
     "name": "stdout",
     "output_type": "stream",
     "text": [
      "5\n",
      "1.67\n"
     ]
    }
   ],
   "source": [
    "# EXERCICIO\n",
    "# add é equivalente a lambda x,y: x+y\n",
    "from operator import add\n",
    "total = contagemFinal.map(lambda x: x[1]).reduce(add)\n",
    "media = float(total) / float(palavrasUnicas)\n",
    "print (total)\n",
    "print (round(media, 2))"
   ]
  },
  {
   "cell_type": "code",
   "execution_count": 31,
   "metadata": {},
   "outputs": [
    {
     "name": "stdout",
     "output_type": "stream",
     "text": [
      "OK\n"
     ]
    }
   ],
   "source": [
    "assert round(media, 2)==1.67, 'valores incorretos!'\n",
    "print (\"OK\")"
   ]
  },
  {
   "cell_type": "markdown",
   "metadata": {
    "collapsed": true
   },
   "source": [
    "## 4 a) Função contaPalavras"
   ]
  },
  {
   "cell_type": "code",
   "execution_count": 33,
   "metadata": {},
   "outputs": [
    {
     "name": "stdout",
     "output_type": "stream",
     "text": [
      "[('elefante', 1), ('rato', 2), ('gato', 2)]\n"
     ]
    }
   ],
   "source": [
    "# EXERCICIO\n",
    "def contaPalavras(chavesRDD):\n",
    "    \"\"\"Creates a pair RDD with word counts from an RDD of words.\n",
    "\n",
    "    Args:\n",
    "        chavesRDD (RDD of str): An RDD consisting of words.\n",
    "\n",
    "    Returns:\n",
    "        RDD of (str, int): An RDD consisting of (word, count) tuples.\n",
    "    \"\"\"\n",
    "    return (chavesRDD.map(lambda x: (x,1)).reduceByKey(lambda x, y: x + y))\n",
    "\n",
    "print (contaPalavras(palavrasRDD).collect())"
   ]
  },
  {
   "cell_type": "code",
   "execution_count": 34,
   "metadata": {},
   "outputs": [
    {
     "name": "stdout",
     "output_type": "stream",
     "text": [
      "OK\n"
     ]
    }
   ],
   "source": [
    "assert sorted(contaPalavras(palavrasRDD).collect())==[('elefante',1), ('gato',2), ('rato',2)], 'valores incorretos!'\n",
    "print (\"OK\")"
   ]
  },
  {
   "cell_type": "markdown",
   "metadata": {},
   "source": [
    "## 4 b) Normalizando o texto"
   ]
  },
  {
   "cell_type": "code",
   "execution_count": 36,
   "metadata": {},
   "outputs": [
    {
     "name": "stdout",
     "output_type": "stream",
     "text": [
      "ola quem esta ai\n",
      "sem espaco esublinhado\n"
     ]
    }
   ],
   "source": [
    "# EXERCICIO\n",
    "import re\n",
    "def removerPontuacao(texto):\n",
    "    \"\"\"Removes punctuation, changes to lower case, and strips leading and trailing spaces.\n",
    "\n",
    "    Note:\n",
    "        Only spaces, letters, and numbers should be retained.  Other characters should should be\n",
    "        eliminated (e.g. it's becomes its).  Leading and trailing spaces should be removed after\n",
    "        punctuation is removed.\n",
    "\n",
    "    Args:\n",
    "        texto (str): A string.\n",
    "\n",
    "    Returns:\n",
    "        str: The cleaned up string.\n",
    "    \"\"\"\n",
    "    return re.sub(r'[^A-Za-z0-9 ]', '', texto).strip().lower()\n",
    "print (removerPontuacao('Ola, quem esta ai??!'))\n",
    "print (removerPontuacao(' Sem espaco e_sublinhado!'))"
   ]
  },
  {
   "cell_type": "code",
   "execution_count": 37,
   "metadata": {},
   "outputs": [
    {
     "name": "stdout",
     "output_type": "stream",
     "text": [
      "OK\n"
     ]
    }
   ],
   "source": [
    "assert removerPontuacao(' O uso de virgulas, embora permitido, nao deve contar. ')=='o uso de virgulas embora permitido nao deve contar', 'string incorreta!'\n",
    "print (\"OK\")"
   ]
  },
  {
   "cell_type": "markdown",
   "metadata": {},
   "source": [
    "## 4 c) Carregando arquivo texto"
   ]
  },
  {
   "cell_type": "code",
   "execution_count": 39,
   "metadata": {},
   "outputs": [
    {
     "name": "stdout",
     "output_type": "stream",
     "text": [
      ": 0\n",
      "project gutenbergs the complete works of william shakespeare by william: 1\n",
      "shakespeare: 2\n",
      ": 3\n",
      "this ebook is for the use of anyone anywhere in the united states and: 4\n",
      "most other parts of the world at no cost and with almost no restrictions: 5\n",
      "whatsoever  you may copy it give it away or reuse it under the terms: 6\n",
      "of the project gutenberg license included with this ebook or online at: 7\n",
      "wwwgutenbergorg  if you are not located in the united states youll: 8\n",
      "have to check the laws of the country where you are located before using: 9\n",
      "this ebook: 10\n",
      ": 11\n",
      "see at the end of this file  content note added in 2017: 12\n",
      ": 13\n",
      ": 14\n"
     ]
    }
   ],
   "source": [
    "# Apenas execute a célula\n",
    "import os.path\n",
    "\n",
    "arquivo = os.path.join('/Users/fernandaborgesdasilva/Documents/Fernanda/Mestrado', '100-0.txt') \n",
    "\n",
    "# lê o arquivo com textFile e aplica a função removerPontuacao        \n",
    "shakesRDD = (sc\n",
    "             .textFile(arquivo, 8)\n",
    "             .map(removerPontuacao)\n",
    "             )\n",
    "\n",
    "# zipWithIndex gera tuplas (conteudo, indice) onde indice é a posição do conteudo na lista sequencial\n",
    "# Ex.: sc.parallelize(['gato','cachorro','boi']).zipWithIndex() ==> [('gato',0), ('cachorro',1), ('boi',2)]\n",
    "# sep.join() junta as strings de uma lista através do separador sep. Ex.: ','.join(['a','b','c']) ==> 'a,b,c'\n",
    "print ('\\n'.join(shakesRDD\n",
    "                .zipWithIndex()\n",
    "                .map(lambda linha: '{0}: {1}'.format(linha[0],linha[1]))\n",
    "                .take(15)\n",
    "               ))"
   ]
  },
  {
   "cell_type": "markdown",
   "metadata": {},
   "source": [
    "## 4 d) Extraindo as palavras"
   ]
  },
  {
   "cell_type": "code",
   "execution_count": 40,
   "metadata": {},
   "outputs": [
    {
     "name": "stdout",
     "output_type": "stream",
     "text": [
      "[[], ['project', 'gutenbergs', 'the', 'complete', 'works', 'of', 'william', 'shakespeare', 'by', 'william'], ['shakespeare'], [], ['this', 'ebook', 'is', 'for', 'the', 'use', 'of', 'anyone', 'anywhere', 'in', 'the', 'united', 'states', 'and']]\n",
      "147929\n"
     ]
    }
   ],
   "source": [
    "# EXERCICIO\n",
    "shakesPalavrasRDD = shakesRDD.map(lambda line: line.split())\n",
    "\n",
    "#textFile.map(lambda line: len(line.split())).reduce(lambda a, b: a if (a > b) else b)\n",
    "\n",
    "total = shakesPalavrasRDD.count()\n",
    "print (shakesPalavrasRDD.take(5))\n",
    "print (total)"
   ]
  },
  {
   "cell_type": "code",
   "execution_count": 41,
   "metadata": {},
   "outputs": [
    {
     "name": "stdout",
     "output_type": "stream",
     "text": [
      "['project', 'gutenbergs', 'the', 'complete', 'works']\n",
      "959359\n"
     ]
    }
   ],
   "source": [
    "# EXERCICIO\n",
    "shakesPalavrasRDD = shakesRDD.flatMap(lambda x: x.split())\n",
    "total = shakesPalavrasRDD.count()\n",
    "print (shakesPalavrasRDD.take(5))\n",
    "print (total)"
   ]
  },
  {
   "cell_type": "code",
   "execution_count": 42,
   "metadata": {},
   "outputs": [
    {
     "name": "stdout",
     "output_type": "stream",
     "text": [
      "OK\n",
      "OK\n"
     ]
    }
   ],
   "source": [
    "assert total==959359, \"valor incorreto de palavras!\"\n",
    "print (\"OK\")\n",
    "assert shakesPalavrasRDD.take(5)==['project', 'gutenbergs', 'the', 'complete', 'works'],'lista incorreta de palavras'\n",
    "print (\"OK\")"
   ]
  },
  {
   "cell_type": "markdown",
   "metadata": {},
   "source": [
    "## 4 f) Contagem de palavras"
   ]
  },
  {
   "cell_type": "code",
   "execution_count": 48,
   "metadata": {},
   "outputs": [
    {
     "name": "stdout",
     "output_type": "stream",
     "text": [
      "the: 29996\n",
      "and: 28353\n",
      "i: 21860\n",
      "to: 20885\n",
      "of: 18811\n",
      "a: 15992\n",
      "you: 14439\n",
      "my: 13191\n",
      "in: 12027\n",
      "that: 11782\n",
      "is: 9711\n",
      "not: 9068\n",
      "with: 8521\n",
      "me: 8271\n",
      "for: 8184\n"
     ]
    }
   ],
   "source": [
    "# EXERCICIO\n",
    "top15 = contaPalavras(shakesPalavrasRDD).takeOrdered(15, key = lambda x: -x[1])\n",
    "print ('\\n'.join(map(lambda x: f'{x[0]}: {x[1]}', top15)))"
   ]
  },
  {
   "cell_type": "code",
   "execution_count": 49,
   "metadata": {},
   "outputs": [
    {
     "name": "stdout",
     "output_type": "stream",
     "text": [
      "OK\n"
     ]
    }
   ],
   "source": [
    "assert top15 == [('the', 29996), ('and', 28353), ('i', 21860), ('to', 20885), ('of', 18811), ('a', 15992), ('you', 14439), ('my', 13191), ('in', 12027), ('that', 11782), ('is', 9711), ('not', 9068), ('with', 8521), ('me', 8271), ('for', 8184)],'valores incorretos!'\n",
    "print (\"OK\")"
   ]
  },
  {
   "cell_type": "markdown",
   "metadata": {},
   "source": [
    "# Parte 5: Similaridade entre Objetos"
   ]
  },
  {
   "cell_type": "markdown",
   "metadata": {},
   "source": [
    "## 5 a) Vetores no espaço Euclidiano "
   ]
  },
  {
   "cell_type": "code",
   "execution_count": 50,
   "metadata": {
    "collapsed": true
   },
   "outputs": [],
   "source": [
    "import numpy as np\n",
    "\n",
    "# Vamos criar uma função pNorm que recebe como parâmetro p e retorna uma função que calcula a pNorma\n",
    "def pNorm(p):\n",
    "    \"\"\"Generates a function to calculate the p-Norm between two points.\n",
    "\n",
    "    Args:\n",
    "        p (int): The integer p.\n",
    "\n",
    "    Returns:\n",
    "        Dist: A function that calculates the p-Norm.\n",
    "    \"\"\"\n",
    "\n",
    "    def Dist(x,y):\n",
    "        return np.power(np.power(np.abs(x-y),p).sum(),1/float(p))\n",
    "    return Dist"
   ]
  },
  {
   "cell_type": "code",
   "execution_count": 51,
   "metadata": {
    "collapsed": true
   },
   "outputs": [],
   "source": [
    "# Vamos criar uma RDD com valores numéricos\n",
    "np.random.seed(42)\n",
    "numPointsRDD = sc.parallelize(enumerate(np.random.random(size=(10,100))))"
   ]
  },
  {
   "cell_type": "code",
   "execution_count": 55,
   "metadata": {},
   "outputs": [
    {
     "data": {
      "text/plain": [
       "[(0, array([ 0.37454012,  0.95071431,  0.73199394,  0.59865848,  0.15601864,\n",
       "          0.15599452,  0.05808361,  0.86617615,  0.60111501,  0.70807258,\n",
       "          0.02058449,  0.96990985,  0.83244264,  0.21233911,  0.18182497,\n",
       "          0.18340451,  0.30424224,  0.52475643,  0.43194502,  0.29122914,\n",
       "          0.61185289,  0.13949386,  0.29214465,  0.36636184,  0.45606998,\n",
       "          0.78517596,  0.19967378,  0.51423444,  0.59241457,  0.04645041,\n",
       "          0.60754485,  0.17052412,  0.06505159,  0.94888554,  0.96563203,\n",
       "          0.80839735,  0.30461377,  0.09767211,  0.68423303,  0.44015249,\n",
       "          0.12203823,  0.49517691,  0.03438852,  0.9093204 ,  0.25877998,\n",
       "          0.66252228,  0.31171108,  0.52006802,  0.54671028,  0.18485446,\n",
       "          0.96958463,  0.77513282,  0.93949894,  0.89482735,  0.59789998,\n",
       "          0.92187424,  0.0884925 ,  0.19598286,  0.04522729,  0.32533033,\n",
       "          0.38867729,  0.27134903,  0.82873751,  0.35675333,  0.28093451,\n",
       "          0.54269608,  0.14092422,  0.80219698,  0.07455064,  0.98688694,\n",
       "          0.77224477,  0.19871568,  0.00552212,  0.81546143,  0.70685734,\n",
       "          0.72900717,  0.77127035,  0.07404465,  0.35846573,  0.11586906,\n",
       "          0.86310343,  0.62329813,  0.33089802,  0.06355835,  0.31098232,\n",
       "          0.32518332,  0.72960618,  0.63755747,  0.88721274,  0.47221493,\n",
       "          0.11959425,  0.71324479,  0.76078505,  0.5612772 ,  0.77096718,\n",
       "          0.4937956 ,  0.52273283,  0.42754102,  0.02541913,  0.10789143])),\n",
       " (1, array([ 0.03142919,  0.63641041,  0.31435598,  0.50857069,  0.90756647,\n",
       "          0.24929223,  0.41038292,  0.75555114,  0.22879817,  0.07697991,\n",
       "          0.28975145,  0.16122129,  0.92969765,  0.80812038,  0.63340376,\n",
       "          0.87146059,  0.80367208,  0.18657006,  0.892559  ,  0.53934224,\n",
       "          0.80744016,  0.8960913 ,  0.31800347,  0.11005192,  0.22793516,\n",
       "          0.42710779,  0.81801477,  0.86073058,  0.00695213,  0.5107473 ,\n",
       "          0.417411  ,  0.22210781,  0.11986537,  0.33761517,  0.9429097 ,\n",
       "          0.32320293,  0.51879062,  0.70301896,  0.3636296 ,  0.97178208,\n",
       "          0.96244729,  0.2517823 ,  0.49724851,  0.30087831,  0.28484049,\n",
       "          0.03688695,  0.60956433,  0.50267902,  0.05147875,  0.27864646,\n",
       "          0.90826589,  0.23956189,  0.14489487,  0.48945276,  0.98565045,\n",
       "          0.24205527,  0.67213555,  0.76161962,  0.23763754,  0.72821635,\n",
       "          0.36778313,  0.63230583,  0.63352971,  0.53577468,  0.09028977,\n",
       "          0.8353025 ,  0.32078006,  0.18651851,  0.04077514,  0.59089294,\n",
       "          0.67756436,  0.01658783,  0.51209306,  0.22649578,  0.64517279,\n",
       "          0.17436643,  0.69093774,  0.38673535,  0.93672999,  0.13752094,\n",
       "          0.34106635,  0.11347352,  0.92469362,  0.87733935,  0.25794163,\n",
       "          0.65998405,  0.8172222 ,  0.55520081,  0.52965058,  0.24185229,\n",
       "          0.09310277,  0.89721576,  0.90041806,  0.63310146,  0.33902979,\n",
       "          0.34920957,  0.72595568,  0.89711026,  0.88708642,  0.77987555])),\n",
       " (2, array([ 0.64203165,  0.08413996,  0.16162871,  0.89855419,  0.60642906,\n",
       "          0.00919705,  0.10147154,  0.66350177,  0.00506158,  0.16080805,\n",
       "          0.54873379,  0.6918952 ,  0.65196126,  0.22426931,  0.71217922,\n",
       "          0.23724909,  0.3253997 ,  0.74649141,  0.6496329 ,  0.84922341,\n",
       "          0.65761289,  0.5683086 ,  0.09367477,  0.3677158 ,  0.26520237,\n",
       "          0.24398964,  0.97301055,  0.39309772,  0.89204656,  0.63113863,\n",
       "          0.7948113 ,  0.50263709,  0.57690388,  0.49251769,  0.19524299,\n",
       "          0.72245212,  0.28077236,  0.02431597,  0.6454723 ,  0.17711068,\n",
       "          0.94045858,  0.95392858,  0.91486439,  0.3701587 ,  0.01545662,\n",
       "          0.92831856,  0.42818415,  0.96665482,  0.96361998,  0.85300946,\n",
       "          0.29444889,  0.38509773,  0.85113667,  0.31692201,  0.16949275,\n",
       "          0.55680126,  0.93615477,  0.6960298 ,  0.57006117,  0.09717649,\n",
       "          0.61500723,  0.99005385,  0.14008402,  0.51832965,  0.87737307,\n",
       "          0.74076862,  0.69701574,  0.70248408,  0.35949115,  0.29359184,\n",
       "          0.80936116,  0.81011339,  0.86707232,  0.91324055,  0.5113424 ,\n",
       "          0.50151629,  0.79829518,  0.64996393,  0.70196688,  0.79579267,\n",
       "          0.89000534,  0.33799516,  0.37558295,  0.09398194,  0.57828014,\n",
       "          0.03594227,  0.46559802,  0.54264463,  0.28654125,  0.59083326,\n",
       "          0.03050025,  0.03734819,  0.82260056,  0.36019064,  0.12706051,\n",
       "          0.52224326,  0.76999355,  0.21582103,  0.62289048,  0.08534746])),\n",
       " (3, array([ 0.05168172,  0.53135463,  0.54063512,  0.6374299 ,  0.72609133,\n",
       "          0.97585208,  0.51630035,  0.32295647,  0.79518619,  0.27083225,\n",
       "          0.43897142,  0.07845638,  0.02535074,  0.96264841,  0.83598012,\n",
       "          0.69597421,  0.40895294,  0.17329432,  0.15643704,  0.2502429 ,\n",
       "          0.54922666,  0.71459592,  0.66019738,  0.2799339 ,  0.95486528,\n",
       "          0.73789692,  0.55435405,  0.61172075,  0.41960006,  0.24773099,\n",
       "          0.35597268,  0.75784611,  0.01439349,  0.11607264,  0.04600264,\n",
       "          0.0407288 ,  0.85546058,  0.70365786,  0.47417383,  0.09783416,\n",
       "          0.49161588,  0.47347177,  0.17320187,  0.43385165,  0.39850473,\n",
       "          0.6158501 ,  0.63509365,  0.04530401,  0.37461261,  0.62585992,\n",
       "          0.50313626,  0.85648984,  0.65869363,  0.16293443,  0.07056875,\n",
       "          0.64241928,  0.02651131,  0.58577558,  0.94023024,  0.57547418,\n",
       "          0.38816993,  0.64328822,  0.45825289,  0.54561679,  0.94146481,\n",
       "          0.38610264,  0.96119056,  0.90535064,  0.19579113,  0.0693613 ,\n",
       "          0.100778  ,  0.01822183,  0.09444296,  0.68300677,  0.07118865,\n",
       "          0.31897563,  0.84487531,  0.02327194,  0.81446848,  0.28185477,\n",
       "          0.11816483,  0.69673717,  0.62894285,  0.87747201,  0.73507104,\n",
       "          0.80348093,  0.28203457,  0.17743954,  0.75061475,  0.80683474,\n",
       "          0.99050514,  0.41261768,  0.37201809,  0.77641296,  0.34080354,\n",
       "          0.93075733,  0.85841275,  0.42899403,  0.75087107,  0.75454287])),\n",
       " (4, array([ 0.10312387,  0.90255291,  0.50525237,  0.82645747,  0.3200496 ,\n",
       "          0.89552323,  0.38920168,  0.01083765,  0.90538198,  0.09128668,\n",
       "          0.31931364,  0.95006197,  0.95060715,  0.57343789,  0.63183721,\n",
       "          0.44844552,  0.29321077,  0.32866455,  0.67251846,  0.75237453,\n",
       "          0.79157904,  0.78961814,  0.0912061 ,  0.4944203 ,  0.05755876,\n",
       "          0.54952888,  0.4415305 ,  0.88770418,  0.35091501,  0.11706702,\n",
       "          0.14299168,  0.76151063,  0.61821806,  0.10112268,  0.08410681,\n",
       "          0.70096913,  0.07276301,  0.82186006,  0.70624223,  0.08134878,\n",
       "          0.08483771,  0.98663958,  0.3742708 ,  0.37064215,  0.81279957,\n",
       "          0.94724858,  0.98600106,  0.75337819,  0.37625959,  0.08350072,\n",
       "          0.77714692,  0.55840425,  0.42422201,  0.90635439,  0.11119748,\n",
       "          0.4926251 ,  0.01135364,  0.46866064,  0.05630328,  0.11881792,\n",
       "          0.11752625,  0.6492103 ,  0.74604488,  0.58336877,  0.96217255,\n",
       "          0.37487058,  0.28571209,  0.86859913,  0.22359584,  0.96322254,\n",
       "          0.01215447,  0.96987883,  0.04315991,  0.89114311,  0.52770111,\n",
       "          0.9929648 ,  0.07379656,  0.55385428,  0.96930254,  0.52309784,\n",
       "          0.62939864,  0.69574869,  0.45454106,  0.62755808,  0.58431431,\n",
       "          0.90115801,  0.04544638,  0.28096319,  0.95041148,  0.89026378,\n",
       "          0.45565675,  0.6201326 ,  0.27738118,  0.18812116,  0.4636984 ,\n",
       "          0.35335223,  0.58365611,  0.07773464,  0.97439481,  0.98621074]))]"
      ]
     },
     "execution_count": 55,
     "metadata": {},
     "output_type": "execute_result"
    }
   ],
   "source": [
    "numPointsRDD.take(5)"
   ]
  },
  {
   "cell_type": "code",
   "execution_count": 54,
   "metadata": {},
   "outputs": [
    {
     "data": {
      "text/plain": [
       "[((0, array([ 0.37454012,  0.95071431,  0.73199394,  0.59865848,  0.15601864,\n",
       "           0.15599452,  0.05808361,  0.86617615,  0.60111501,  0.70807258,\n",
       "           0.02058449,  0.96990985,  0.83244264,  0.21233911,  0.18182497,\n",
       "           0.18340451,  0.30424224,  0.52475643,  0.43194502,  0.29122914,\n",
       "           0.61185289,  0.13949386,  0.29214465,  0.36636184,  0.45606998,\n",
       "           0.78517596,  0.19967378,  0.51423444,  0.59241457,  0.04645041,\n",
       "           0.60754485,  0.17052412,  0.06505159,  0.94888554,  0.96563203,\n",
       "           0.80839735,  0.30461377,  0.09767211,  0.68423303,  0.44015249,\n",
       "           0.12203823,  0.49517691,  0.03438852,  0.9093204 ,  0.25877998,\n",
       "           0.66252228,  0.31171108,  0.52006802,  0.54671028,  0.18485446,\n",
       "           0.96958463,  0.77513282,  0.93949894,  0.89482735,  0.59789998,\n",
       "           0.92187424,  0.0884925 ,  0.19598286,  0.04522729,  0.32533033,\n",
       "           0.38867729,  0.27134903,  0.82873751,  0.35675333,  0.28093451,\n",
       "           0.54269608,  0.14092422,  0.80219698,  0.07455064,  0.98688694,\n",
       "           0.77224477,  0.19871568,  0.00552212,  0.81546143,  0.70685734,\n",
       "           0.72900717,  0.77127035,  0.07404465,  0.35846573,  0.11586906,\n",
       "           0.86310343,  0.62329813,  0.33089802,  0.06355835,  0.31098232,\n",
       "           0.32518332,  0.72960618,  0.63755747,  0.88721274,  0.47221493,\n",
       "           0.11959425,  0.71324479,  0.76078505,  0.5612772 ,  0.77096718,\n",
       "           0.4937956 ,  0.52273283,  0.42754102,  0.02541913,  0.10789143])),\n",
       "  (0, array([ 0.37454012,  0.95071431,  0.73199394,  0.59865848,  0.15601864,\n",
       "           0.15599452,  0.05808361,  0.86617615,  0.60111501,  0.70807258,\n",
       "           0.02058449,  0.96990985,  0.83244264,  0.21233911,  0.18182497,\n",
       "           0.18340451,  0.30424224,  0.52475643,  0.43194502,  0.29122914,\n",
       "           0.61185289,  0.13949386,  0.29214465,  0.36636184,  0.45606998,\n",
       "           0.78517596,  0.19967378,  0.51423444,  0.59241457,  0.04645041,\n",
       "           0.60754485,  0.17052412,  0.06505159,  0.94888554,  0.96563203,\n",
       "           0.80839735,  0.30461377,  0.09767211,  0.68423303,  0.44015249,\n",
       "           0.12203823,  0.49517691,  0.03438852,  0.9093204 ,  0.25877998,\n",
       "           0.66252228,  0.31171108,  0.52006802,  0.54671028,  0.18485446,\n",
       "           0.96958463,  0.77513282,  0.93949894,  0.89482735,  0.59789998,\n",
       "           0.92187424,  0.0884925 ,  0.19598286,  0.04522729,  0.32533033,\n",
       "           0.38867729,  0.27134903,  0.82873751,  0.35675333,  0.28093451,\n",
       "           0.54269608,  0.14092422,  0.80219698,  0.07455064,  0.98688694,\n",
       "           0.77224477,  0.19871568,  0.00552212,  0.81546143,  0.70685734,\n",
       "           0.72900717,  0.77127035,  0.07404465,  0.35846573,  0.11586906,\n",
       "           0.86310343,  0.62329813,  0.33089802,  0.06355835,  0.31098232,\n",
       "           0.32518332,  0.72960618,  0.63755747,  0.88721274,  0.47221493,\n",
       "           0.11959425,  0.71324479,  0.76078505,  0.5612772 ,  0.77096718,\n",
       "           0.4937956 ,  0.52273283,  0.42754102,  0.02541913,  0.10789143])))]"
      ]
     },
     "execution_count": 54,
     "metadata": {},
     "output_type": "execute_result"
    }
   ],
   "source": [
    "numPointsRDD.cartesian(numPointsRDD).take(1)"
   ]
  },
  {
   "cell_type": "code",
   "execution_count": 59,
   "metadata": {},
   "outputs": [
    {
     "data": {
      "text/plain": [
       "[((0, 0),\n",
       "  (array([ 0.37454012,  0.95071431,  0.73199394,  0.59865848,  0.15601864,\n",
       "           0.15599452,  0.05808361,  0.86617615,  0.60111501,  0.70807258,\n",
       "           0.02058449,  0.96990985,  0.83244264,  0.21233911,  0.18182497,\n",
       "           0.18340451,  0.30424224,  0.52475643,  0.43194502,  0.29122914,\n",
       "           0.61185289,  0.13949386,  0.29214465,  0.36636184,  0.45606998,\n",
       "           0.78517596,  0.19967378,  0.51423444,  0.59241457,  0.04645041,\n",
       "           0.60754485,  0.17052412,  0.06505159,  0.94888554,  0.96563203,\n",
       "           0.80839735,  0.30461377,  0.09767211,  0.68423303,  0.44015249,\n",
       "           0.12203823,  0.49517691,  0.03438852,  0.9093204 ,  0.25877998,\n",
       "           0.66252228,  0.31171108,  0.52006802,  0.54671028,  0.18485446,\n",
       "           0.96958463,  0.77513282,  0.93949894,  0.89482735,  0.59789998,\n",
       "           0.92187424,  0.0884925 ,  0.19598286,  0.04522729,  0.32533033,\n",
       "           0.38867729,  0.27134903,  0.82873751,  0.35675333,  0.28093451,\n",
       "           0.54269608,  0.14092422,  0.80219698,  0.07455064,  0.98688694,\n",
       "           0.77224477,  0.19871568,  0.00552212,  0.81546143,  0.70685734,\n",
       "           0.72900717,  0.77127035,  0.07404465,  0.35846573,  0.11586906,\n",
       "           0.86310343,  0.62329813,  0.33089802,  0.06355835,  0.31098232,\n",
       "           0.32518332,  0.72960618,  0.63755747,  0.88721274,  0.47221493,\n",
       "           0.11959425,  0.71324479,  0.76078505,  0.5612772 ,  0.77096718,\n",
       "           0.4937956 ,  0.52273283,  0.42754102,  0.02541913,  0.10789143]),\n",
       "   array([ 0.37454012,  0.95071431,  0.73199394,  0.59865848,  0.15601864,\n",
       "           0.15599452,  0.05808361,  0.86617615,  0.60111501,  0.70807258,\n",
       "           0.02058449,  0.96990985,  0.83244264,  0.21233911,  0.18182497,\n",
       "           0.18340451,  0.30424224,  0.52475643,  0.43194502,  0.29122914,\n",
       "           0.61185289,  0.13949386,  0.29214465,  0.36636184,  0.45606998,\n",
       "           0.78517596,  0.19967378,  0.51423444,  0.59241457,  0.04645041,\n",
       "           0.60754485,  0.17052412,  0.06505159,  0.94888554,  0.96563203,\n",
       "           0.80839735,  0.30461377,  0.09767211,  0.68423303,  0.44015249,\n",
       "           0.12203823,  0.49517691,  0.03438852,  0.9093204 ,  0.25877998,\n",
       "           0.66252228,  0.31171108,  0.52006802,  0.54671028,  0.18485446,\n",
       "           0.96958463,  0.77513282,  0.93949894,  0.89482735,  0.59789998,\n",
       "           0.92187424,  0.0884925 ,  0.19598286,  0.04522729,  0.32533033,\n",
       "           0.38867729,  0.27134903,  0.82873751,  0.35675333,  0.28093451,\n",
       "           0.54269608,  0.14092422,  0.80219698,  0.07455064,  0.98688694,\n",
       "           0.77224477,  0.19871568,  0.00552212,  0.81546143,  0.70685734,\n",
       "           0.72900717,  0.77127035,  0.07404465,  0.35846573,  0.11586906,\n",
       "           0.86310343,  0.62329813,  0.33089802,  0.06355835,  0.31098232,\n",
       "           0.32518332,  0.72960618,  0.63755747,  0.88721274,  0.47221493,\n",
       "           0.11959425,  0.71324479,  0.76078505,  0.5612772 ,  0.77096718,\n",
       "           0.4937956 ,  0.52273283,  0.42754102,  0.02541913,  0.10789143]))),\n",
       " ((0, 1),\n",
       "  (array([ 0.37454012,  0.95071431,  0.73199394,  0.59865848,  0.15601864,\n",
       "           0.15599452,  0.05808361,  0.86617615,  0.60111501,  0.70807258,\n",
       "           0.02058449,  0.96990985,  0.83244264,  0.21233911,  0.18182497,\n",
       "           0.18340451,  0.30424224,  0.52475643,  0.43194502,  0.29122914,\n",
       "           0.61185289,  0.13949386,  0.29214465,  0.36636184,  0.45606998,\n",
       "           0.78517596,  0.19967378,  0.51423444,  0.59241457,  0.04645041,\n",
       "           0.60754485,  0.17052412,  0.06505159,  0.94888554,  0.96563203,\n",
       "           0.80839735,  0.30461377,  0.09767211,  0.68423303,  0.44015249,\n",
       "           0.12203823,  0.49517691,  0.03438852,  0.9093204 ,  0.25877998,\n",
       "           0.66252228,  0.31171108,  0.52006802,  0.54671028,  0.18485446,\n",
       "           0.96958463,  0.77513282,  0.93949894,  0.89482735,  0.59789998,\n",
       "           0.92187424,  0.0884925 ,  0.19598286,  0.04522729,  0.32533033,\n",
       "           0.38867729,  0.27134903,  0.82873751,  0.35675333,  0.28093451,\n",
       "           0.54269608,  0.14092422,  0.80219698,  0.07455064,  0.98688694,\n",
       "           0.77224477,  0.19871568,  0.00552212,  0.81546143,  0.70685734,\n",
       "           0.72900717,  0.77127035,  0.07404465,  0.35846573,  0.11586906,\n",
       "           0.86310343,  0.62329813,  0.33089802,  0.06355835,  0.31098232,\n",
       "           0.32518332,  0.72960618,  0.63755747,  0.88721274,  0.47221493,\n",
       "           0.11959425,  0.71324479,  0.76078505,  0.5612772 ,  0.77096718,\n",
       "           0.4937956 ,  0.52273283,  0.42754102,  0.02541913,  0.10789143]),\n",
       "   array([ 0.03142919,  0.63641041,  0.31435598,  0.50857069,  0.90756647,\n",
       "           0.24929223,  0.41038292,  0.75555114,  0.22879817,  0.07697991,\n",
       "           0.28975145,  0.16122129,  0.92969765,  0.80812038,  0.63340376,\n",
       "           0.87146059,  0.80367208,  0.18657006,  0.892559  ,  0.53934224,\n",
       "           0.80744016,  0.8960913 ,  0.31800347,  0.11005192,  0.22793516,\n",
       "           0.42710779,  0.81801477,  0.86073058,  0.00695213,  0.5107473 ,\n",
       "           0.417411  ,  0.22210781,  0.11986537,  0.33761517,  0.9429097 ,\n",
       "           0.32320293,  0.51879062,  0.70301896,  0.3636296 ,  0.97178208,\n",
       "           0.96244729,  0.2517823 ,  0.49724851,  0.30087831,  0.28484049,\n",
       "           0.03688695,  0.60956433,  0.50267902,  0.05147875,  0.27864646,\n",
       "           0.90826589,  0.23956189,  0.14489487,  0.48945276,  0.98565045,\n",
       "           0.24205527,  0.67213555,  0.76161962,  0.23763754,  0.72821635,\n",
       "           0.36778313,  0.63230583,  0.63352971,  0.53577468,  0.09028977,\n",
       "           0.8353025 ,  0.32078006,  0.18651851,  0.04077514,  0.59089294,\n",
       "           0.67756436,  0.01658783,  0.51209306,  0.22649578,  0.64517279,\n",
       "           0.17436643,  0.69093774,  0.38673535,  0.93672999,  0.13752094,\n",
       "           0.34106635,  0.11347352,  0.92469362,  0.87733935,  0.25794163,\n",
       "           0.65998405,  0.8172222 ,  0.55520081,  0.52965058,  0.24185229,\n",
       "           0.09310277,  0.89721576,  0.90041806,  0.63310146,  0.33902979,\n",
       "           0.34920957,  0.72595568,  0.89711026,  0.88708642,  0.77987555])))]"
      ]
     },
     "execution_count": 59,
     "metadata": {},
     "output_type": "execute_result"
    }
   ],
   "source": [
    "numPointsRDD.cartesian(numPointsRDD).map(lambda v: ((v[0][0],v[1][0]),(v[0][1],v[1][1]))).take(2)"
   ]
  },
  {
   "cell_type": "code",
   "execution_count": 60,
   "metadata": {
    "collapsed": true
   },
   "outputs": [],
   "source": [
    "# EXERCICIO\n",
    "# Procure dentre os comandos do PySpark, um que consiga fazer o produto cartesiano da base com ela mesma\n",
    "cartPointsRDD = numPointsRDD.cartesian(numPointsRDD)\n",
    "\n",
    "# Aplique um mapa para transformar nossa RDD em uma RDD de tuplas ((id1,id2), (vetor1,vetor2))\n",
    "# DICA: primeiro utilize o comando take(1) e imprima o resultado para verificar o formato atual da RDD\n",
    "cartPointsParesRDD = cartPointsRDD.map(lambda v: ((v[0][0],v[1][0]),(v[0][1],v[1][1])))"
   ]
  },
  {
   "cell_type": "code",
   "execution_count": 72,
   "metadata": {},
   "outputs": [],
   "source": [
    "Euclid = pNorm(2)\n",
    "distRDD = cartPointsParesRDD.map(lambda x : ((x[0][0],x[0][1]), (Euclid(x[1][0],x[1][1]))))"
   ]
  },
  {
   "cell_type": "code",
   "execution_count": 73,
   "metadata": {},
   "outputs": [
    {
     "data": {
      "text/plain": [
       "[((0, 0), 0.0),\n",
       " ((0, 1), 4.2345051393862141),\n",
       " ((1, 0), 4.2345051393862141),\n",
       " ((1, 1), 0.0),\n",
       " ((0, 2), 4.2615682254003238),\n",
       " ((0, 3), 4.5818322831562508),\n",
       " ((1, 2), 4.4227464617188623),\n",
       " ((1, 3), 4.1516196156146963),\n",
       " ((0, 4), 4.0948275933015132),\n",
       " ((0, 5), 4.0733226542833938)]"
      ]
     },
     "execution_count": 73,
     "metadata": {},
     "output_type": "execute_result"
    }
   ],
   "source": [
    "distRDD.take(10)"
   ]
  },
  {
   "cell_type": "code",
   "execution_count": 76,
   "metadata": {},
   "outputs": [
    {
     "data": {
      "text/plain": [
       "[0.0,\n",
       " 4.2345051393862141,\n",
       " 4.2345051393862141,\n",
       " 0.0,\n",
       " 4.2615682254003238,\n",
       " 4.5818322831562508,\n",
       " 4.4227464617188623,\n",
       " 4.1516196156146963,\n",
       " 4.0948275933015132,\n",
       " 4.0733226542833938]"
      ]
     },
     "execution_count": 76,
     "metadata": {},
     "output_type": "execute_result"
    }
   ],
   "source": [
    "statRDD = distRDD.map(lambda x: x[1])\n",
    "statRDD.take(10)"
   ]
  },
  {
   "cell_type": "code",
   "execution_count": 80,
   "metadata": {},
   "outputs": [
    {
     "data": {
      "text/plain": [
       "0.0"
      ]
     },
     "execution_count": 80,
     "metadata": {},
     "output_type": "execute_result"
    }
   ],
   "source": [
    "statRDD.min()"
   ]
  },
  {
   "cell_type": "code",
   "execution_count": 81,
   "metadata": {},
   "outputs": [
    {
     "name": "stdout",
     "output_type": "stream",
     "text": [
      "0.0 4.70904818366 3.75119168898\n"
     ]
    }
   ],
   "source": [
    "# Aplique um mapa para calcular a Distância Euclidiana entre os pares\n",
    "Euclid = pNorm(2)\n",
    "distRDD = cartPointsParesRDD.map(lambda x : ((x[0][0],x[0][1]), (Euclid(x[1][0],x[1][1]))))\n",
    "\n",
    "# Encontre a distância máxima, mínima e média, aplicando um mapa que transforma (chave,valor) --> valor\n",
    "# e utilizando os comandos internos do pyspark para o cálculo da min, max, mean\n",
    "statRDD = distRDD.map(lambda x: x[1])\n",
    "\n",
    "minv, maxv, meanv = statRDD.min(), statRDD.max(), statRDD.mean()\n",
    "print (minv, maxv, meanv)"
   ]
  },
  {
   "cell_type": "code",
   "execution_count": 82,
   "metadata": {},
   "outputs": [
    {
     "name": "stdout",
     "output_type": "stream",
     "text": [
      "OK\n"
     ]
    }
   ],
   "source": [
    "assert (minv.round(2), maxv.round(2), meanv.round(2))==(0.0, 4.71, 3.75), 'Valores incorretos'\n",
    "print (\"OK\")"
   ]
  },
  {
   "cell_type": "markdown",
   "metadata": {},
   "source": [
    "## 5 b) Valores Categóricos "
   ]
  },
  {
   "cell_type": "code",
   "execution_count": 83,
   "metadata": {
    "collapsed": true
   },
   "outputs": [],
   "source": [
    "# Vamos criar uma função para calcular a distância de Hamming\n",
    "def Hamming(x,y):\n",
    "    \"\"\"Calculates the Hamming distance between two binary vectors.\n",
    "\n",
    "    Args:\n",
    "        x, y (np.array): Array of binary integers x and y.\n",
    "\n",
    "    Returns:\n",
    "        H (int): The Hamming distance between x and y.\n",
    "    \"\"\"\n",
    "    return (x!=y).sum()\n",
    "\n",
    "# Vamos criar uma função para calcular a distância de Jaccard\n",
    "def Jaccard(x,y):\n",
    "    \"\"\"Calculates the Jaccard distance between two binary vectors.\n",
    "\n",
    "    Args:\n",
    "        x, y (np.array): Array of binary integers x and y.\n",
    "\n",
    "    Returns:\n",
    "        J (int): The Jaccard distance between x and y.\n",
    "    \"\"\"\n",
    "    return (x==y).sum()/float( np.maximum(x,y).sum() )"
   ]
  },
  {
   "cell_type": "code",
   "execution_count": 84,
   "metadata": {
    "collapsed": true
   },
   "outputs": [],
   "source": [
    "# Vamos criar uma RDD com valores categóricos\n",
    "catPointsRDD = sc.parallelize(enumerate([['alto', 'caro', 'azul'],\n",
    "                             ['medio', 'caro', 'verde'],\n",
    "                             ['alto', 'barato', 'azul'],\n",
    "                             ['medio', 'caro', 'vermelho'],\n",
    "                             ['baixo', 'barato', 'verde'],\n",
    "                            ]))"
   ]
  },
  {
   "cell_type": "code",
   "execution_count": 87,
   "metadata": {
    "scrolled": false
   },
   "outputs": [
    {
     "data": {
      "text/plain": [
       "[(0, ['alto', 'caro', 'azul']),\n",
       " (1, ['medio', 'caro', 'verde']),\n",
       " (2, ['alto', 'barato', 'azul']),\n",
       " (3, ['medio', 'caro', 'vermelho']),\n",
       " (4, ['baixo', 'barato', 'verde'])]"
      ]
     },
     "execution_count": 87,
     "metadata": {},
     "output_type": "execute_result"
    }
   ],
   "source": [
    "catPointsRDD.collect()"
   ]
  },
  {
   "cell_type": "code",
   "execution_count": 242,
   "metadata": {},
   "outputs": [
    {
     "data": {
      "text/plain": [
       "[(0, 'alto'),\n",
       " (3, 'caro'),\n",
       " (4, 'verde'),\n",
       " (1, 'medio'),\n",
       " (1, 'verde'),\n",
       " (2, 'azul'),\n",
       " (4, 'barato'),\n",
       " (1, 'caro'),\n",
       " (2, 'alto'),\n",
       " (4, 'baixo'),\n",
       " (0, 'caro'),\n",
       " (0, 'azul'),\n",
       " (2, 'barato'),\n",
       " (3, 'medio'),\n",
       " (3, 'vermelho')]"
      ]
     },
     "execution_count": 242,
     "metadata": {},
     "output_type": "execute_result"
    }
   ],
   "source": [
    "catPointsRDD.map(lambda x: ((x[0],x[1][0]),(x[0],x[1][1]),(x[0],x[1][2]))).flatMap(lambda x: x).distinct().collect()"
   ]
  },
  {
   "cell_type": "code",
   "execution_count": 229,
   "metadata": {
    "scrolled": true
   },
   "outputs": [
    {
     "data": {
      "text/plain": [
       "[('baixo', 4),\n",
       " ('barato', 2),\n",
       " ('alto', 0),\n",
       " ('medio', 1),\n",
       " ('verde', 1),\n",
       " ('vermelho', 3),\n",
       " ('caro', 0),\n",
       " ('azul', 0)]"
      ]
     },
     "execution_count": 229,
     "metadata": {},
     "output_type": "execute_result"
    }
   ],
   "source": [
    "catPointsRDD.map(lambda x: ((x[1][0],x[0]),(x[1][1],x[0]),(x[1][2],x[0]))).flatMap(lambda x: x).reduceByKey(min).collect()"
   ]
  },
  {
   "cell_type": "code",
   "execution_count": 222,
   "metadata": {},
   "outputs": [
    {
     "name": "stdout",
     "output_type": "stream",
     "text": [
      "{'baixo': 4, 'barato': 4, 'alto': 2, 'medio': 3, 'verde': 4, 'vermelho': 3, 'caro': 3, 'azul': 2} 8\n"
     ]
    }
   ],
   "source": [
    "# EXERCICIO\n",
    "# Crie um RDD de chaves únicas utilizando flatMap\n",
    "chavesRDD = (catPointsRDD.map(lambda x: ((x[1][0],x[0]),(x[1][1],x[0]),(x[1][2],x[0]))).flatMap(lambda x: x).reduceByKey(max))\n",
    "\n",
    "#chaves = dict((v,k) for k,v in chavesRDD.collect())\n",
    "chaves = dict((v,k) for v,k in chavesRDD.collect())\n",
    "nchaves = len(chaves)\n",
    "print (chaves, nchaves)"
   ]
  },
  {
   "cell_type": "code",
   "execution_count": 223,
   "metadata": {},
   "outputs": [
    {
     "ename": "AssertionError",
     "evalue": "valores incorretos!",
     "output_type": "error",
     "traceback": [
      "\u001b[0;31m---------------------------------------------------------------------------\u001b[0m",
      "\u001b[0;31mAssertionError\u001b[0m                            Traceback (most recent call last)",
      "\u001b[0;32m<ipython-input-223-ef288f3d4ed5>\u001b[0m in \u001b[0;36m<module>\u001b[0;34m()\u001b[0m\n\u001b[0;32m----> 1\u001b[0;31m \u001b[0;32massert\u001b[0m \u001b[0mchaves\u001b[0m\u001b[0;34m==\u001b[0m\u001b[0;34m{\u001b[0m\u001b[0;34m'alto'\u001b[0m\u001b[0;34m:\u001b[0m \u001b[0;36m2\u001b[0m\u001b[0;34m,\u001b[0m \u001b[0;34m'caro'\u001b[0m\u001b[0;34m:\u001b[0m \u001b[0;36m0\u001b[0m\u001b[0;34m,\u001b[0m \u001b[0;34m'baixo'\u001b[0m\u001b[0;34m:\u001b[0m \u001b[0;36m4\u001b[0m\u001b[0;34m,\u001b[0m \u001b[0;34m'verde'\u001b[0m\u001b[0;34m:\u001b[0m \u001b[0;36m1\u001b[0m\u001b[0;34m,\u001b[0m \u001b[0;34m'azul'\u001b[0m\u001b[0;34m:\u001b[0m \u001b[0;36m2\u001b[0m\u001b[0;34m,\u001b[0m \u001b[0;34m'medio'\u001b[0m\u001b[0;34m:\u001b[0m \u001b[0;36m3\u001b[0m\u001b[0;34m,\u001b[0m \u001b[0;34m'barato'\u001b[0m\u001b[0;34m:\u001b[0m \u001b[0;36m4\u001b[0m\u001b[0;34m,\u001b[0m \u001b[0;34m'vermelho'\u001b[0m\u001b[0;34m:\u001b[0m \u001b[0;36m3\u001b[0m\u001b[0;34m}\u001b[0m\u001b[0;34m,\u001b[0m \u001b[0;34m'valores incorretos!'\u001b[0m\u001b[0;34m\u001b[0m\u001b[0m\n\u001b[0m\u001b[1;32m      2\u001b[0m \u001b[0mprint\u001b[0m \u001b[0;34m(\u001b[0m\u001b[0;34m\"OK\"\u001b[0m\u001b[0;34m)\u001b[0m\u001b[0;34m\u001b[0m\u001b[0m\n\u001b[1;32m      3\u001b[0m \u001b[0;34m\u001b[0m\u001b[0m\n\u001b[1;32m      4\u001b[0m \u001b[0;32massert\u001b[0m \u001b[0mnchaves\u001b[0m\u001b[0;34m==\u001b[0m\u001b[0;36m8\u001b[0m\u001b[0;34m,\u001b[0m \u001b[0;34m'número de chaves incorreta'\u001b[0m\u001b[0;34m\u001b[0m\u001b[0m\n\u001b[1;32m      5\u001b[0m \u001b[0mprint\u001b[0m \u001b[0;34m(\u001b[0m\u001b[0;34m\"OK\"\u001b[0m\u001b[0;34m)\u001b[0m\u001b[0;34m\u001b[0m\u001b[0m\n",
      "\u001b[0;31mAssertionError\u001b[0m: valores incorretos!"
     ]
    }
   ],
   "source": [
    "assert chaves=={'alto': 2, 'caro': 0, 'baixo': 4, 'verde': 1, 'azul': 2, 'medio': 3, 'barato': 4, 'vermelho': 3}, 'valores incorretos!'\n",
    "print (\"OK\")\n",
    "\n",
    "assert nchaves==8, 'número de chaves incorreta'\n",
    "print (\"OK\")"
   ]
  },
  {
   "cell_type": "code",
   "execution_count": 224,
   "metadata": {
    "scrolled": false
   },
   "outputs": [
    {
     "data": {
      "text/plain": [
       "[(0, array([ 0.,  0.,  1.,  1.,  0.,  0.,  0.,  0.])),\n",
       " (1, array([ 0.,  0.,  0.,  1.,  1.,  0.,  0.,  0.])),\n",
       " (2, array([ 0.,  0.,  1.,  0.,  1.,  0.,  0.,  0.])),\n",
       " (3, array([ 0.,  0.,  0.,  1.,  0.,  0.,  0.,  0.])),\n",
       " (4, array([ 0.,  0.,  0.,  0.,  1.,  0.,  0.,  0.]))]"
      ]
     },
     "execution_count": 224,
     "metadata": {},
     "output_type": "execute_result"
    }
   ],
   "source": [
    "def CreateNP(atributos,chaves):  \n",
    "    \"\"\"Binarize the categorical vector using a dictionary of keys.\n",
    "\n",
    "    Args:\n",
    "        atributos (list): List of attributes of a given object.\n",
    "        chaves (dict): dictionary with the relation attribute -> index\n",
    "\n",
    "    Returns:\n",
    "        array (np.array): Binary array of attributes.\n",
    "    \"\"\"\n",
    "    \n",
    "    array = np.zeros(len(chaves))\n",
    "    for atr in atributos:\n",
    "        array[ chaves[atr] ] = 1\n",
    "    return array\n",
    "\n",
    "# Converte o RDD para o formato binário, utilizando o dict chaves\n",
    "binRDD = catPointsRDD.map(lambda rec: (rec[0],CreateNP(rec[1], chaves)))\n",
    "binRDD.collect()"
   ]
  },
  {
   "cell_type": "code",
   "execution_count": 235,
   "metadata": {},
   "outputs": [
    {
     "data": {
      "text/plain": [
       "[((0, array([ 0.,  0.,  1.,  1.,  0.,  0.,  0.,  0.])),\n",
       "  (0, array([ 0.,  0.,  1.,  1.,  0.,  0.,  0.,  0.]))),\n",
       " ((0, array([ 0.,  0.,  1.,  1.,  0.,  0.,  0.,  0.])),\n",
       "  (1, array([ 0.,  0.,  0.,  1.,  1.,  0.,  0.,  0.])))]"
      ]
     },
     "execution_count": 235,
     "metadata": {},
     "output_type": "execute_result"
    }
   ],
   "source": [
    "# EXERCICIO\n",
    "# Procure dentre os comandos do PySpark, um que consiga fazer o produto cartesiano da base com ela mesma\n",
    "cartBinRDD = binRDD.cartesian(binRDD)\n",
    "\n",
    "cartBinRDD.take(2)"
   ]
  },
  {
   "cell_type": "code",
   "execution_count": 236,
   "metadata": {},
   "outputs": [
    {
     "data": {
      "text/plain": [
       "[((0, 0),\n",
       "  (array([ 0.,  0.,  1.,  1.,  0.,  0.,  0.,  0.]),\n",
       "   array([ 0.,  0.,  1.,  1.,  0.,  0.,  0.,  0.]))),\n",
       " ((0, 1),\n",
       "  (array([ 0.,  0.,  1.,  1.,  0.,  0.,  0.,  0.]),\n",
       "   array([ 0.,  0.,  0.,  1.,  1.,  0.,  0.,  0.])))]"
      ]
     },
     "execution_count": 236,
     "metadata": {},
     "output_type": "execute_result"
    }
   ],
   "source": [
    "# Aplique um mapa para transformar nossa RDD em uma RDD de tuplas ((id1,id2), (vetor1,vetor2))\n",
    "# DICA: primeiro utilize o comando take(1) e imprima o resultado para verificar o formato atual da RDD\n",
    "cartBinParesRDD = cartBinRDD.map(lambda v: ((v[0][0],v[1][0]),(v[0][1],v[1][1])))\n",
    "cartBinParesRDD.take(2)"
   ]
  },
  {
   "cell_type": "code",
   "execution_count": 232,
   "metadata": {
    "collapsed": true
   },
   "outputs": [],
   "source": [
    "# Aplique um mapa para calcular a Distância de Hamming e Jaccard entre os pares\n",
    "hamRDD = cartBinParesRDD.map(lambda x : ((x[0][0],x[0][1]), (Hamming(x[1][0],x[1][1]))))\n",
    "jacRDD = cartBinParesRDD.map(lambda x : ((x[0][0],x[0][1]), (Jaccard(x[1][0],x[1][1]))))"
   ]
  },
  {
   "cell_type": "code",
   "execution_count": 233,
   "metadata": {},
   "outputs": [
    {
     "name": "stdout",
     "output_type": "stream",
     "text": [
      "\t\tMin\tMax\tMean\n",
      "Hamming:\t0.00\t3.00\t1.44\n",
      "Jaccard:\t1.67\t8.00\t3.23\n"
     ]
    }
   ],
   "source": [
    "# Encontre a distância máxima, mínima e média, aplicando um mapa que transforma (chave,valor) --> valor\n",
    "# e utilizando os comandos internos do pyspark para o cálculo da min, max, mean\n",
    "statHRDD = hamRDD.map(lambda x: x[1])\n",
    "statJRDD = jacRDD.map(lambda x: x[1])\n",
    "\n",
    "Hmin, Hmax, Hmean = statHRDD.min(), statHRDD.max(), statHRDD.mean()\n",
    "Jmin, Jmax, Jmean = statJRDD.min(), statJRDD.max(), statJRDD.mean()\n",
    "\n",
    "print (\"\\t\\tMin\\tMax\\tMean\")\n",
    "print (\"Hamming:\\t{:.2f}\\t{:.2f}\\t{:.2f}\".format(Hmin, Hmax, Hmean ))\n",
    "print (\"Jaccard:\\t{:.2f}\\t{:.2f}\\t{:.2f}\".format( Jmin, Jmax, Jmean ))"
   ]
  },
  {
   "cell_type": "code",
   "execution_count": 234,
   "metadata": {},
   "outputs": [
    {
     "ename": "AssertionError",
     "evalue": "valores incorretos",
     "output_type": "error",
     "traceback": [
      "\u001b[0;31m---------------------------------------------------------------------------\u001b[0m",
      "\u001b[0;31mAssertionError\u001b[0m                            Traceback (most recent call last)",
      "\u001b[0;32m<ipython-input-234-fd5e2514d39b>\u001b[0m in \u001b[0;36m<module>\u001b[0;34m()\u001b[0m\n\u001b[0;32m----> 1\u001b[0;31m \u001b[0;32massert\u001b[0m \u001b[0;34m(\u001b[0m\u001b[0mHmin\u001b[0m\u001b[0;34m.\u001b[0m\u001b[0mround\u001b[0m\u001b[0;34m(\u001b[0m\u001b[0;36m2\u001b[0m\u001b[0;34m)\u001b[0m\u001b[0;34m,\u001b[0m \u001b[0mHmax\u001b[0m\u001b[0;34m.\u001b[0m\u001b[0mround\u001b[0m\u001b[0;34m(\u001b[0m\u001b[0;36m2\u001b[0m\u001b[0;34m)\u001b[0m\u001b[0;34m,\u001b[0m \u001b[0mHmean\u001b[0m\u001b[0;34m.\u001b[0m\u001b[0mround\u001b[0m\u001b[0;34m(\u001b[0m\u001b[0;36m2\u001b[0m\u001b[0;34m)\u001b[0m\u001b[0;34m)\u001b[0m \u001b[0;34m==\u001b[0m \u001b[0;34m(\u001b[0m\u001b[0;36m0.00\u001b[0m\u001b[0;34m,\u001b[0m\u001b[0;36m5.00\u001b[0m\u001b[0;34m,\u001b[0m\u001b[0;36m2.40\u001b[0m\u001b[0;34m)\u001b[0m\u001b[0;34m,\u001b[0m \u001b[0;34m'valores incorretos'\u001b[0m\u001b[0;34m\u001b[0m\u001b[0m\n\u001b[0m\u001b[1;32m      2\u001b[0m \u001b[0mprint\u001b[0m \u001b[0;34m(\u001b[0m\u001b[0;34m\"OK\"\u001b[0m\u001b[0;34m)\u001b[0m\u001b[0;34m\u001b[0m\u001b[0m\n\u001b[1;32m      3\u001b[0m \u001b[0;32massert\u001b[0m \u001b[0;34m(\u001b[0m\u001b[0mJmin\u001b[0m\u001b[0;34m.\u001b[0m\u001b[0mround\u001b[0m\u001b[0;34m(\u001b[0m\u001b[0;36m2\u001b[0m\u001b[0;34m)\u001b[0m\u001b[0;34m,\u001b[0m \u001b[0mJmax\u001b[0m\u001b[0;34m.\u001b[0m\u001b[0mround\u001b[0m\u001b[0;34m(\u001b[0m\u001b[0;36m2\u001b[0m\u001b[0;34m)\u001b[0m\u001b[0;34m,\u001b[0m \u001b[0mJmean\u001b[0m\u001b[0;34m.\u001b[0m\u001b[0mround\u001b[0m\u001b[0;34m(\u001b[0m\u001b[0;36m2\u001b[0m\u001b[0;34m)\u001b[0m\u001b[0;34m)\u001b[0m \u001b[0;34m==\u001b[0m \u001b[0;34m(\u001b[0m\u001b[0;36m0.60\u001b[0m\u001b[0;34m,\u001b[0m\u001b[0;36m4.00\u001b[0m\u001b[0;34m,\u001b[0m\u001b[0;36m1.90\u001b[0m\u001b[0;34m)\u001b[0m\u001b[0;34m,\u001b[0m \u001b[0;34m'valores incorretos'\u001b[0m\u001b[0;34m\u001b[0m\u001b[0m\n\u001b[1;32m      4\u001b[0m \u001b[0mprint\u001b[0m \u001b[0;34m(\u001b[0m\u001b[0;34m\"OK\"\u001b[0m\u001b[0;34m)\u001b[0m\u001b[0;34m\u001b[0m\u001b[0m\n",
      "\u001b[0;31mAssertionError\u001b[0m: valores incorretos"
     ]
    }
   ],
   "source": [
    "assert (Hmin.round(2), Hmax.round(2), Hmean.round(2)) == (0.00,5.00,2.40), 'valores incorretos'\n",
    "print (\"OK\")\n",
    "assert (Jmin.round(2), Jmax.round(2), Jmean.round(2)) == (0.60,4.00,1.90), 'valores incorretos'\n",
    "print (\"OK\")"
   ]
  },
  {
   "cell_type": "code",
   "execution_count": null,
   "metadata": {
    "collapsed": true
   },
   "outputs": [],
   "source": []
  }
 ],
 "metadata": {
  "kernelspec": {
   "display_name": "Python 3",
   "language": "python",
   "name": "python3"
  },
  "language_info": {
   "codemirror_mode": {
    "name": "ipython",
    "version": 3
   },
   "file_extension": ".py",
   "mimetype": "text/x-python",
   "name": "python",
   "nbconvert_exporter": "python",
   "pygments_lexer": "ipython3",
   "version": "3.6.3"
  }
 },
 "nbformat": 4,
 "nbformat_minor": 2
}
